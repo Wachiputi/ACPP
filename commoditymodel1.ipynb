{
  "nbformat": 4,
  "nbformat_minor": 0,
  "metadata": {
    "colab": {
      "provenance": []
    },
    "kernelspec": {
      "name": "python3",
      "display_name": "Python 3"
    },
    "language_info": {
      "name": "python"
    }
  },
  "cells": [
    {
      "cell_type": "markdown",
      "source": [
        "#**IMPORTING THE NECCESSARY FRAMEWORKS**"
      ],
      "metadata": {
        "id": "wJUFxUb_j4CU"
      }
    },
    {
      "cell_type": "code",
      "execution_count": null,
      "metadata": {
        "id": "QncyHbVVibZT"
      },
      "outputs": [],
      "source": [
        "import numpy as np\n",
        "import pandas as pd"
      ]
    },
    {
      "cell_type": "code",
      "source": [
        "df = pd.read_csv ('/content/sample_data/wfp_food_prices_mwi (1).csv')"
      ],
      "metadata": {
        "id": "rqAq-F3LkFG3"
      },
      "execution_count": null,
      "outputs": []
    },
    {
      "cell_type": "code",
      "source": [
        "df.duplicated().sum()"
      ],
      "metadata": {
        "colab": {
          "base_uri": "https://localhost:8080/"
        },
        "id": "q3v2YrznkbX-",
        "outputId": "249d8f76-6364-40e6-b3ee-348661df4cdc"
      },
      "execution_count": null,
      "outputs": [
        {
          "output_type": "execute_result",
          "data": {
            "text/plain": [
              "0"
            ]
          },
          "metadata": {},
          "execution_count": 29
        }
      ]
    },
    {
      "cell_type": "code",
      "source": [
        "df.isnull().sum()"
      ],
      "metadata": {
        "colab": {
          "base_uri": "https://localhost:8080/"
        },
        "id": "oKut7dyikdpy",
        "outputId": "6741f02d-f157-4a74-eaf6-debd31fe56f0"
      },
      "execution_count": null,
      "outputs": [
        {
          "output_type": "execute_result",
          "data": {
            "text/plain": [
              "date           0\n",
              "admin1       489\n",
              "admin2       489\n",
              "market         0\n",
              "latitude     489\n",
              "longitude    489\n",
              "category       0\n",
              "commodity      0\n",
              "unit           0\n",
              "priceflag      0\n",
              "pricetype      0\n",
              "currency       0\n",
              "price          0\n",
              "usdprice       0\n",
              "dtype: int64"
            ]
          },
          "metadata": {},
          "execution_count": 30
        }
      ]
    },
    {
      "cell_type": "markdown",
      "source": [
        "**FEATURE SELECTION**"
      ],
      "metadata": {
        "id": "oo6FYGwxkhEI"
      }
    },
    {
      "cell_type": "code",
      "source": [
        "df.drop(columns=[ 'usdprice', 'latitude', 'longitude', 'category', 'unit', 'priceflag', 'currency',],inplace=True)\n",
        "#since the command was written at first, but all the other coloumns have been dropped too from it"
      ],
      "metadata": {
        "id": "OpsG4Ho1ki_I"
      },
      "execution_count": null,
      "outputs": []
    },
    {
      "cell_type": "code",
      "source": [
        "df.drop(index=0, inplace=True)"
      ],
      "metadata": {
        "id": "gPuSz-Y-kpeY"
      },
      "execution_count": null,
      "outputs": []
    },
    {
      "cell_type": "code",
      "source": [
        "df.drop(columns=[ 'pricetype'],inplace=True)"
      ],
      "metadata": {
        "id": "IF1kpy2KneQX"
      },
      "execution_count": null,
      "outputs": []
    },
    {
      "cell_type": "code",
      "source": [
        "df"
      ],
      "metadata": {
        "colab": {
          "base_uri": "https://localhost:8080/",
          "height": 424
        },
        "id": "_ih-H7K1nvZW",
        "outputId": "71c284a1-4410-46ec-c4ea-d76f42c8f29f"
      },
      "execution_count": null,
      "outputs": [
        {
          "output_type": "execute_result",
          "data": {
            "text/plain": [
              "             date           admin1 admin2            market  \\\n",
              "1      10/15/1990              NaN    NaN  National Average   \n",
              "2      10/15/1990              NaN    NaN  National Average   \n",
              "3       8/15/1991              NaN    NaN  National Average   \n",
              "4       8/15/1991              NaN    NaN  National Average   \n",
              "5       6/15/1992              NaN    NaN  National Average   \n",
              "...           ...              ...    ...               ...   \n",
              "47194   2/15/2024  Southern Region  Zomba           Songani   \n",
              "47195   2/15/2024  Southern Region  Zomba           Thondwe   \n",
              "47196   2/15/2024  Southern Region  Zomba           Thondwe   \n",
              "47197   2/15/2024  Southern Region  Zomba           Thondwe   \n",
              "47198   2/15/2024  Southern Region  Zomba           Thondwe   \n",
              "\n",
              "                       commodity    price  \n",
              "1                  Fuel (diesel)      1.9  \n",
              "2      Fuel (kerosene, paraffin)     1.22  \n",
              "3                  Fuel (diesel)        2  \n",
              "4      Fuel (kerosene, paraffin)     1.22  \n",
              "5                  Fuel (diesel)     2.58  \n",
              "...                          ...      ...  \n",
              "47194                Pigeon peas  1927.27  \n",
              "47195        Maize (new harvest)   868.18  \n",
              "47196                      Beans     3000  \n",
              "47197                    Cowpeas  1963.64  \n",
              "47198                Pigeon peas     2000  \n",
              "\n",
              "[47198 rows x 6 columns]"
            ],
            "text/html": [
              "\n",
              "  <div id=\"df-43d44cde-382f-4f24-8cf8-12c90748db50\" class=\"colab-df-container\">\n",
              "    <div>\n",
              "<style scoped>\n",
              "    .dataframe tbody tr th:only-of-type {\n",
              "        vertical-align: middle;\n",
              "    }\n",
              "\n",
              "    .dataframe tbody tr th {\n",
              "        vertical-align: top;\n",
              "    }\n",
              "\n",
              "    .dataframe thead th {\n",
              "        text-align: right;\n",
              "    }\n",
              "</style>\n",
              "<table border=\"1\" class=\"dataframe\">\n",
              "  <thead>\n",
              "    <tr style=\"text-align: right;\">\n",
              "      <th></th>\n",
              "      <th>date</th>\n",
              "      <th>admin1</th>\n",
              "      <th>admin2</th>\n",
              "      <th>market</th>\n",
              "      <th>commodity</th>\n",
              "      <th>price</th>\n",
              "    </tr>\n",
              "  </thead>\n",
              "  <tbody>\n",
              "    <tr>\n",
              "      <th>1</th>\n",
              "      <td>10/15/1990</td>\n",
              "      <td>NaN</td>\n",
              "      <td>NaN</td>\n",
              "      <td>National Average</td>\n",
              "      <td>Fuel (diesel)</td>\n",
              "      <td>1.9</td>\n",
              "    </tr>\n",
              "    <tr>\n",
              "      <th>2</th>\n",
              "      <td>10/15/1990</td>\n",
              "      <td>NaN</td>\n",
              "      <td>NaN</td>\n",
              "      <td>National Average</td>\n",
              "      <td>Fuel (kerosene, paraffin)</td>\n",
              "      <td>1.22</td>\n",
              "    </tr>\n",
              "    <tr>\n",
              "      <th>3</th>\n",
              "      <td>8/15/1991</td>\n",
              "      <td>NaN</td>\n",
              "      <td>NaN</td>\n",
              "      <td>National Average</td>\n",
              "      <td>Fuel (diesel)</td>\n",
              "      <td>2</td>\n",
              "    </tr>\n",
              "    <tr>\n",
              "      <th>4</th>\n",
              "      <td>8/15/1991</td>\n",
              "      <td>NaN</td>\n",
              "      <td>NaN</td>\n",
              "      <td>National Average</td>\n",
              "      <td>Fuel (kerosene, paraffin)</td>\n",
              "      <td>1.22</td>\n",
              "    </tr>\n",
              "    <tr>\n",
              "      <th>5</th>\n",
              "      <td>6/15/1992</td>\n",
              "      <td>NaN</td>\n",
              "      <td>NaN</td>\n",
              "      <td>National Average</td>\n",
              "      <td>Fuel (diesel)</td>\n",
              "      <td>2.58</td>\n",
              "    </tr>\n",
              "    <tr>\n",
              "      <th>...</th>\n",
              "      <td>...</td>\n",
              "      <td>...</td>\n",
              "      <td>...</td>\n",
              "      <td>...</td>\n",
              "      <td>...</td>\n",
              "      <td>...</td>\n",
              "    </tr>\n",
              "    <tr>\n",
              "      <th>47194</th>\n",
              "      <td>2/15/2024</td>\n",
              "      <td>Southern Region</td>\n",
              "      <td>Zomba</td>\n",
              "      <td>Songani</td>\n",
              "      <td>Pigeon peas</td>\n",
              "      <td>1927.27</td>\n",
              "    </tr>\n",
              "    <tr>\n",
              "      <th>47195</th>\n",
              "      <td>2/15/2024</td>\n",
              "      <td>Southern Region</td>\n",
              "      <td>Zomba</td>\n",
              "      <td>Thondwe</td>\n",
              "      <td>Maize (new harvest)</td>\n",
              "      <td>868.18</td>\n",
              "    </tr>\n",
              "    <tr>\n",
              "      <th>47196</th>\n",
              "      <td>2/15/2024</td>\n",
              "      <td>Southern Region</td>\n",
              "      <td>Zomba</td>\n",
              "      <td>Thondwe</td>\n",
              "      <td>Beans</td>\n",
              "      <td>3000</td>\n",
              "    </tr>\n",
              "    <tr>\n",
              "      <th>47197</th>\n",
              "      <td>2/15/2024</td>\n",
              "      <td>Southern Region</td>\n",
              "      <td>Zomba</td>\n",
              "      <td>Thondwe</td>\n",
              "      <td>Cowpeas</td>\n",
              "      <td>1963.64</td>\n",
              "    </tr>\n",
              "    <tr>\n",
              "      <th>47198</th>\n",
              "      <td>2/15/2024</td>\n",
              "      <td>Southern Region</td>\n",
              "      <td>Zomba</td>\n",
              "      <td>Thondwe</td>\n",
              "      <td>Pigeon peas</td>\n",
              "      <td>2000</td>\n",
              "    </tr>\n",
              "  </tbody>\n",
              "</table>\n",
              "<p>47198 rows × 6 columns</p>\n",
              "</div>\n",
              "    <div class=\"colab-df-buttons\">\n",
              "\n",
              "  <div class=\"colab-df-container\">\n",
              "    <button class=\"colab-df-convert\" onclick=\"convertToInteractive('df-43d44cde-382f-4f24-8cf8-12c90748db50')\"\n",
              "            title=\"Convert this dataframe to an interactive table.\"\n",
              "            style=\"display:none;\">\n",
              "\n",
              "  <svg xmlns=\"http://www.w3.org/2000/svg\" height=\"24px\" viewBox=\"0 -960 960 960\">\n",
              "    <path d=\"M120-120v-720h720v720H120Zm60-500h600v-160H180v160Zm220 220h160v-160H400v160Zm0 220h160v-160H400v160ZM180-400h160v-160H180v160Zm440 0h160v-160H620v160ZM180-180h160v-160H180v160Zm440 0h160v-160H620v160Z\"/>\n",
              "  </svg>\n",
              "    </button>\n",
              "\n",
              "  <style>\n",
              "    .colab-df-container {\n",
              "      display:flex;\n",
              "      gap: 12px;\n",
              "    }\n",
              "\n",
              "    .colab-df-convert {\n",
              "      background-color: #E8F0FE;\n",
              "      border: none;\n",
              "      border-radius: 50%;\n",
              "      cursor: pointer;\n",
              "      display: none;\n",
              "      fill: #1967D2;\n",
              "      height: 32px;\n",
              "      padding: 0 0 0 0;\n",
              "      width: 32px;\n",
              "    }\n",
              "\n",
              "    .colab-df-convert:hover {\n",
              "      background-color: #E2EBFA;\n",
              "      box-shadow: 0px 1px 2px rgba(60, 64, 67, 0.3), 0px 1px 3px 1px rgba(60, 64, 67, 0.15);\n",
              "      fill: #174EA6;\n",
              "    }\n",
              "\n",
              "    .colab-df-buttons div {\n",
              "      margin-bottom: 4px;\n",
              "    }\n",
              "\n",
              "    [theme=dark] .colab-df-convert {\n",
              "      background-color: #3B4455;\n",
              "      fill: #D2E3FC;\n",
              "    }\n",
              "\n",
              "    [theme=dark] .colab-df-convert:hover {\n",
              "      background-color: #434B5C;\n",
              "      box-shadow: 0px 1px 3px 1px rgba(0, 0, 0, 0.15);\n",
              "      filter: drop-shadow(0px 1px 2px rgba(0, 0, 0, 0.3));\n",
              "      fill: #FFFFFF;\n",
              "    }\n",
              "  </style>\n",
              "\n",
              "    <script>\n",
              "      const buttonEl =\n",
              "        document.querySelector('#df-43d44cde-382f-4f24-8cf8-12c90748db50 button.colab-df-convert');\n",
              "      buttonEl.style.display =\n",
              "        google.colab.kernel.accessAllowed ? 'block' : 'none';\n",
              "\n",
              "      async function convertToInteractive(key) {\n",
              "        const element = document.querySelector('#df-43d44cde-382f-4f24-8cf8-12c90748db50');\n",
              "        const dataTable =\n",
              "          await google.colab.kernel.invokeFunction('convertToInteractive',\n",
              "                                                    [key], {});\n",
              "        if (!dataTable) return;\n",
              "\n",
              "        const docLinkHtml = 'Like what you see? Visit the ' +\n",
              "          '<a target=\"_blank\" href=https://colab.research.google.com/notebooks/data_table.ipynb>data table notebook</a>'\n",
              "          + ' to learn more about interactive tables.';\n",
              "        element.innerHTML = '';\n",
              "        dataTable['output_type'] = 'display_data';\n",
              "        await google.colab.output.renderOutput(dataTable, element);\n",
              "        const docLink = document.createElement('div');\n",
              "        docLink.innerHTML = docLinkHtml;\n",
              "        element.appendChild(docLink);\n",
              "      }\n",
              "    </script>\n",
              "  </div>\n",
              "\n",
              "\n",
              "<div id=\"df-056267b5-a288-4c82-b7ad-7668e169f37f\">\n",
              "  <button class=\"colab-df-quickchart\" onclick=\"quickchart('df-056267b5-a288-4c82-b7ad-7668e169f37f')\"\n",
              "            title=\"Suggest charts\"\n",
              "            style=\"display:none;\">\n",
              "\n",
              "<svg xmlns=\"http://www.w3.org/2000/svg\" height=\"24px\"viewBox=\"0 0 24 24\"\n",
              "     width=\"24px\">\n",
              "    <g>\n",
              "        <path d=\"M19 3H5c-1.1 0-2 .9-2 2v14c0 1.1.9 2 2 2h14c1.1 0 2-.9 2-2V5c0-1.1-.9-2-2-2zM9 17H7v-7h2v7zm4 0h-2V7h2v10zm4 0h-2v-4h2v4z\"/>\n",
              "    </g>\n",
              "</svg>\n",
              "  </button>\n",
              "\n",
              "<style>\n",
              "  .colab-df-quickchart {\n",
              "      --bg-color: #E8F0FE;\n",
              "      --fill-color: #1967D2;\n",
              "      --hover-bg-color: #E2EBFA;\n",
              "      --hover-fill-color: #174EA6;\n",
              "      --disabled-fill-color: #AAA;\n",
              "      --disabled-bg-color: #DDD;\n",
              "  }\n",
              "\n",
              "  [theme=dark] .colab-df-quickchart {\n",
              "      --bg-color: #3B4455;\n",
              "      --fill-color: #D2E3FC;\n",
              "      --hover-bg-color: #434B5C;\n",
              "      --hover-fill-color: #FFFFFF;\n",
              "      --disabled-bg-color: #3B4455;\n",
              "      --disabled-fill-color: #666;\n",
              "  }\n",
              "\n",
              "  .colab-df-quickchart {\n",
              "    background-color: var(--bg-color);\n",
              "    border: none;\n",
              "    border-radius: 50%;\n",
              "    cursor: pointer;\n",
              "    display: none;\n",
              "    fill: var(--fill-color);\n",
              "    height: 32px;\n",
              "    padding: 0;\n",
              "    width: 32px;\n",
              "  }\n",
              "\n",
              "  .colab-df-quickchart:hover {\n",
              "    background-color: var(--hover-bg-color);\n",
              "    box-shadow: 0 1px 2px rgba(60, 64, 67, 0.3), 0 1px 3px 1px rgba(60, 64, 67, 0.15);\n",
              "    fill: var(--button-hover-fill-color);\n",
              "  }\n",
              "\n",
              "  .colab-df-quickchart-complete:disabled,\n",
              "  .colab-df-quickchart-complete:disabled:hover {\n",
              "    background-color: var(--disabled-bg-color);\n",
              "    fill: var(--disabled-fill-color);\n",
              "    box-shadow: none;\n",
              "  }\n",
              "\n",
              "  .colab-df-spinner {\n",
              "    border: 2px solid var(--fill-color);\n",
              "    border-color: transparent;\n",
              "    border-bottom-color: var(--fill-color);\n",
              "    animation:\n",
              "      spin 1s steps(1) infinite;\n",
              "  }\n",
              "\n",
              "  @keyframes spin {\n",
              "    0% {\n",
              "      border-color: transparent;\n",
              "      border-bottom-color: var(--fill-color);\n",
              "      border-left-color: var(--fill-color);\n",
              "    }\n",
              "    20% {\n",
              "      border-color: transparent;\n",
              "      border-left-color: var(--fill-color);\n",
              "      border-top-color: var(--fill-color);\n",
              "    }\n",
              "    30% {\n",
              "      border-color: transparent;\n",
              "      border-left-color: var(--fill-color);\n",
              "      border-top-color: var(--fill-color);\n",
              "      border-right-color: var(--fill-color);\n",
              "    }\n",
              "    40% {\n",
              "      border-color: transparent;\n",
              "      border-right-color: var(--fill-color);\n",
              "      border-top-color: var(--fill-color);\n",
              "    }\n",
              "    60% {\n",
              "      border-color: transparent;\n",
              "      border-right-color: var(--fill-color);\n",
              "    }\n",
              "    80% {\n",
              "      border-color: transparent;\n",
              "      border-right-color: var(--fill-color);\n",
              "      border-bottom-color: var(--fill-color);\n",
              "    }\n",
              "    90% {\n",
              "      border-color: transparent;\n",
              "      border-bottom-color: var(--fill-color);\n",
              "    }\n",
              "  }\n",
              "</style>\n",
              "\n",
              "  <script>\n",
              "    async function quickchart(key) {\n",
              "      const quickchartButtonEl =\n",
              "        document.querySelector('#' + key + ' button');\n",
              "      quickchartButtonEl.disabled = true;  // To prevent multiple clicks.\n",
              "      quickchartButtonEl.classList.add('colab-df-spinner');\n",
              "      try {\n",
              "        const charts = await google.colab.kernel.invokeFunction(\n",
              "            'suggestCharts', [key], {});\n",
              "      } catch (error) {\n",
              "        console.error('Error during call to suggestCharts:', error);\n",
              "      }\n",
              "      quickchartButtonEl.classList.remove('colab-df-spinner');\n",
              "      quickchartButtonEl.classList.add('colab-df-quickchart-complete');\n",
              "    }\n",
              "    (() => {\n",
              "      let quickchartButtonEl =\n",
              "        document.querySelector('#df-056267b5-a288-4c82-b7ad-7668e169f37f button');\n",
              "      quickchartButtonEl.style.display =\n",
              "        google.colab.kernel.accessAllowed ? 'block' : 'none';\n",
              "    })();\n",
              "  </script>\n",
              "</div>\n",
              "\n",
              "  <div id=\"id_4d10fc73-6b0b-4c07-9055-9073ad0d5c94\">\n",
              "    <style>\n",
              "      .colab-df-generate {\n",
              "        background-color: #E8F0FE;\n",
              "        border: none;\n",
              "        border-radius: 50%;\n",
              "        cursor: pointer;\n",
              "        display: none;\n",
              "        fill: #1967D2;\n",
              "        height: 32px;\n",
              "        padding: 0 0 0 0;\n",
              "        width: 32px;\n",
              "      }\n",
              "\n",
              "      .colab-df-generate:hover {\n",
              "        background-color: #E2EBFA;\n",
              "        box-shadow: 0px 1px 2px rgba(60, 64, 67, 0.3), 0px 1px 3px 1px rgba(60, 64, 67, 0.15);\n",
              "        fill: #174EA6;\n",
              "      }\n",
              "\n",
              "      [theme=dark] .colab-df-generate {\n",
              "        background-color: #3B4455;\n",
              "        fill: #D2E3FC;\n",
              "      }\n",
              "\n",
              "      [theme=dark] .colab-df-generate:hover {\n",
              "        background-color: #434B5C;\n",
              "        box-shadow: 0px 1px 3px 1px rgba(0, 0, 0, 0.15);\n",
              "        filter: drop-shadow(0px 1px 2px rgba(0, 0, 0, 0.3));\n",
              "        fill: #FFFFFF;\n",
              "      }\n",
              "    </style>\n",
              "    <button class=\"colab-df-generate\" onclick=\"generateWithVariable('df')\"\n",
              "            title=\"Generate code using this dataframe.\"\n",
              "            style=\"display:none;\">\n",
              "\n",
              "  <svg xmlns=\"http://www.w3.org/2000/svg\" height=\"24px\"viewBox=\"0 0 24 24\"\n",
              "       width=\"24px\">\n",
              "    <path d=\"M7,19H8.4L18.45,9,17,7.55,7,17.6ZM5,21V16.75L18.45,3.32a2,2,0,0,1,2.83,0l1.4,1.43a1.91,1.91,0,0,1,.58,1.4,1.91,1.91,0,0,1-.58,1.4L9.25,21ZM18.45,9,17,7.55Zm-12,3A5.31,5.31,0,0,0,4.9,8.1,5.31,5.31,0,0,0,1,6.5,5.31,5.31,0,0,0,4.9,4.9,5.31,5.31,0,0,0,6.5,1,5.31,5.31,0,0,0,8.1,4.9,5.31,5.31,0,0,0,12,6.5,5.46,5.46,0,0,0,6.5,12Z\"/>\n",
              "  </svg>\n",
              "    </button>\n",
              "    <script>\n",
              "      (() => {\n",
              "      const buttonEl =\n",
              "        document.querySelector('#id_4d10fc73-6b0b-4c07-9055-9073ad0d5c94 button.colab-df-generate');\n",
              "      buttonEl.style.display =\n",
              "        google.colab.kernel.accessAllowed ? 'block' : 'none';\n",
              "\n",
              "      buttonEl.onclick = () => {\n",
              "        google.colab.notebook.generateWithVariable('df');\n",
              "      }\n",
              "      })();\n",
              "    </script>\n",
              "  </div>\n",
              "\n",
              "    </div>\n",
              "  </div>\n"
            ],
            "application/vnd.google.colaboratory.intrinsic+json": {
              "type": "dataframe",
              "variable_name": "df",
              "repr_error": "0"
            }
          },
          "metadata": {},
          "execution_count": 34
        }
      ]
    },
    {
      "cell_type": "markdown",
      "source": [
        "#**FILTERING THE FEATURES (SELECTION OF FEATURES)**"
      ],
      "metadata": {
        "id": "NlkxQT5zktjd"
      }
    },
    {
      "cell_type": "code",
      "source": [
        "#filter data based on the date and commodity i want as well as markets and area\n",
        "\n",
        "# Converting the date column to datetime format\n",
        "df['date'] = pd.to_datetime(df['date'])\n",
        "\n",
        "# Defining the date range\n",
        "start_date = '2023-01-01'\n",
        "end_date = '2024-01-31'\n",
        "\n",
        "# Filtering the data for the date range\n",
        "filtered_df = df[(df['date'] >= start_date) & (df['date'] <= end_date)]\n",
        "\n",
        "#the commodities and markets being filtered\n",
        "commodities = ['Maize (new harvest)', 'Beans']\n",
        "\n",
        "markets= ['Nsikawanjala', 'Lizulu', 'Jenda', 'Mitundu', 'Lunzu']\n",
        "\n",
        "# Filter the DataFrame\n",
        "filtered_data = filtered_df[(filtered_df['commodity'].isin(commodities) & (df['market'].str.lower().isin([m.lower() for m in markets])))]\n",
        "\n",
        "# Print the filtered data or proceed with ML modeling using the filtered data\n",
        "print(filtered_data)"
      ],
      "metadata": {
        "id": "HMUrA3gIkqVL",
        "colab": {
          "base_uri": "https://localhost:8080/"
        },
        "outputId": "f576a73e-a20c-4bdf-e30d-48368d1864d2"
      },
      "execution_count": null,
      "outputs": [
        {
          "output_type": "stream",
          "name": "stdout",
          "text": [
            "            date           admin1    admin2        market  \\\n",
            "43310 2023-01-15   Central Region     Dedza  Nsikawanjala   \n",
            "43386 2023-01-15  Northern Region    Mzimba         Jenda   \n",
            "43387 2023-01-15  Northern Region    Mzimba         Jenda   \n",
            "43414 2023-01-15  Southern Region  Blantyre         Lunzu   \n",
            "43415 2023-01-15  Southern Region  Blantyre         Lunzu   \n",
            "...          ...              ...       ...           ...   \n",
            "46449 2024-01-15   Central Region     Dedza  Nsikawanjala   \n",
            "46581 2024-01-15  Northern Region    Mzimba         Jenda   \n",
            "46582 2024-01-15  Northern Region    Mzimba         Jenda   \n",
            "46635 2024-01-15  Southern Region  Blantyre         Lunzu   \n",
            "46636 2024-01-15  Southern Region  Blantyre         Lunzu   \n",
            "\n",
            "                 commodity    price  \n",
            "43310                Beans     1600  \n",
            "43386  Maize (new harvest)      445  \n",
            "43387                Beans     1700  \n",
            "43414  Maize (new harvest)   534.17  \n",
            "43415                Beans  1795.83  \n",
            "...                    ...      ...  \n",
            "46449                Beans     2650  \n",
            "46581  Maize (new harvest)   820.59  \n",
            "46582                Beans  2155.88  \n",
            "46635  Maize (new harvest)  1023.53  \n",
            "46636                Beans  2820.59  \n",
            "\n",
            "[67 rows x 6 columns]\n"
          ]
        },
        {
          "output_type": "stream",
          "name": "stderr",
          "text": [
            "<ipython-input-46-39ca71e4b20f>:19: UserWarning: Boolean Series key will be reindexed to match DataFrame index.\n",
            "  filtered_data = filtered_df[(filtered_df['commodity'].isin(commodities) & (df['market'].str.lower().isin([m.lower() for m in markets])))]\n"
          ]
        }
      ]
    },
    {
      "cell_type": "markdown",
      "source": [
        "#**GRAPHING THE FEATURES (X) WITH THE TARGET (Y)**"
      ],
      "metadata": {
        "id": "gbjMDpXnk0U-"
      }
    },
    {
      "cell_type": "code",
      "source": [
        "import seaborn as sns\n",
        "import matplotlib.pyplot as plt\n"
      ],
      "metadata": {
        "id": "JpitHzYhk1wU"
      },
      "execution_count": null,
      "outputs": []
    },
    {
      "cell_type": "markdown",
      "source": [
        "## Price (y) vs Commodity (x)"
      ],
      "metadata": {
        "id": "CZOSYxba4TPD"
      }
    },
    {
      "cell_type": "code",
      "source": [
        "sns.displot(filtered_data['price'])"
      ],
      "metadata": {
        "colab": {
          "base_uri": "https://localhost:8080/",
          "height": 523
        },
        "id": "6bw4Bc0gn8vy",
        "outputId": "a64c46de-842b-42e5-ddce-1e3325f03882"
      },
      "execution_count": null,
      "outputs": [
        {
          "output_type": "execute_result",
          "data": {
            "text/plain": [
              "<seaborn.axisgrid.FacetGrid at 0x7e6cfff58670>"
            ]
          },
          "metadata": {},
          "execution_count": 47
        },
        {
          "output_type": "display_data",
          "data": {
            "text/plain": [
              "<Figure size 500x500 with 1 Axes>"
            ],
            "image/png": "[encoded data removed]"
          },
          "metadata": {}
        }
      ]
    },
    {
      "cell_type": "code",
      "source": [
        "filtered_data['commodity'].value_counts().plot(kind='bar')"
      ],
      "metadata": {
        "colab": {
          "base_uri": "https://localhost:8080/",
          "height": 594
        },
        "id": "9r8ol_t1o5qr",
        "outputId": "1f287ff6-c625-44a1-8734-a6eff15084d2"
      },
      "execution_count": null,
      "outputs": [
        {
          "output_type": "execute_result",
          "data": {
            "text/plain": [
              "<Axes: xlabel='commodity'>"
            ]
          },
          "metadata": {},
          "execution_count": 48
        },
        {
          "output_type": "display_data",
          "data": {
            "text/plain": [
              "<Figure size 640x480 with 1 Axes>"
            ],
            "image/png": "[encoded data removed]"
          },
          "metadata": {}
        }
      ]
    },
    {
      "cell_type": "markdown",
      "source": [
        "##**Commodity** **vs price**"
      ],
      "metadata": {
        "id": "k-kghrOs4-p2"
      }
    },
    {
      "cell_type": "code",
      "source": [
        "sns.barplot(x= filtered_data['commodity'], y=filtered_data['price'])\n",
        "plt.title('Bar Plot for commodity vs prices')\n",
        "plt.gca().invert_yaxis()\n",
        "plt.show()"
      ],
      "metadata": {
        "colab": {
          "base_uri": "https://localhost:8080/",
          "height": 472
        },
        "id": "t3pXfhLj49xR",
        "outputId": "e96aa0c9-1425-4b4f-ab74-4f0d0d74a625"
      },
      "execution_count": null,
      "outputs": [
        {
          "output_type": "display_data",
          "data": {
            "text/plain": [
              "<Figure size 640x480 with 1 Axes>"
            ],
            "image/png": "[encoded data removed]"
          },
          "metadata": {}
        }
      ]
    },
    {
      "cell_type": "markdown",
      "source": [
        "##**Markets vs price**"
      ],
      "metadata": {
        "id": "z9LfU_mRB425"
      }
    },
    {
      "cell_type": "code",
      "source": [
        "filtered_data['market'].value_counts().plot(kind='bar')"
      ],
      "metadata": {
        "colab": {
          "base_uri": "https://localhost:8080/",
          "height": 547
        },
        "id": "lFUfSNBn2QQ3",
        "outputId": "2d36450a-689a-4310-9f86-318a3c25aa76"
      },
      "execution_count": null,
      "outputs": [
        {
          "output_type": "execute_result",
          "data": {
            "text/plain": [
              "<Axes: xlabel='market'>"
            ]
          },
          "metadata": {},
          "execution_count": 62
        },
        {
          "output_type": "display_data",
          "data": {
            "text/plain": [
              "<Figure size 640x480 with 1 Axes>"
            ],
            "image/png": "[encoded data removed]"
          },
          "metadata": {}
        }
      ]
    },
    {
      "cell_type": "code",
      "source": [
        "sns.barplot(x= filtered_data['market'], y=filtered_data['price'])\n",
        "plt.title('bar Plot of market vs price')\n",
        "plt.gca().invert_yaxis()\n",
        "plt.show()"
      ],
      "metadata": {
        "id": "DAobVCBHCHgG"
      },
      "execution_count": null,
      "outputs": []
    },
    {
      "cell_type": "code",
      "source": [
        "sns.displot(filtered_data['admin1'])"
      ],
      "metadata": {
        "colab": {
          "base_uri": "https://localhost:8080/",
          "height": 524
        },
        "id": "20wIbRjWZRJ5",
        "outputId": "eeb56b1d-1acb-4836-db30-99dd6f72029f"
      },
      "execution_count": null,
      "outputs": [
        {
          "output_type": "execute_result",
          "data": {
            "text/plain": [
              "<seaborn.axisgrid.FacetGrid at 0x7e6cfc961c60>"
            ]
          },
          "metadata": {},
          "execution_count": 64
        },
        {
          "output_type": "display_data",
          "data": {
            "text/plain": [
              "<Figure size 500x500 with 1 Axes>"
            ],
            "image/png": "[encoded data removed]"
          },
          "metadata": {}
        }
      ]
    },
    {
      "cell_type": "code",
      "source": [
        "sns.scatterplot(x=filtered_data ['admin1'], y = filtered_data['price'])"
      ],
      "metadata": {
        "id": "pSYuRkrbZ1Ah"
      },
      "execution_count": null,
      "outputs": []
    },
    {
      "cell_type": "code",
      "source": [
        "filtered_data['date'].value_counts()"
      ],
      "metadata": {
        "colab": {
          "base_uri": "https://localhost:8080/"
        },
        "id": "B5iZjvDGe_JC",
        "outputId": "5a3452ad-d5b7-4c86-f3c3-1a3cf61d4578"
      },
      "execution_count": null,
      "outputs": [
        {
          "output_type": "execute_result",
          "data": {
            "text/plain": [
              "date\n",
              "2024-01-15    6\n",
              "2023-04-15    6\n",
              "2023-08-15    6\n",
              "2023-06-15    6\n",
              "2023-07-15    6\n",
              "2023-09-15    6\n",
              "2023-10-15    6\n",
              "2023-11-15    6\n",
              "2023-12-15    6\n",
              "2023-01-15    5\n",
              "2023-03-15    4\n",
              "2023-05-15    2\n",
              "2023-02-15    2\n",
              "Name: count, dtype: int64"
            ]
          },
          "metadata": {},
          "execution_count": 81
        }
      ]
    }
  ]
}